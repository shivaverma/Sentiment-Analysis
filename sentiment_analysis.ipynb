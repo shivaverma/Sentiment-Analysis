{
 "cells": [
  {
   "cell_type": "code",
   "execution_count": 1,
   "metadata": {},
   "outputs": [
    {
     "name": "stderr",
     "output_type": "stream",
     "text": [
      "Using TensorFlow backend.\n"
     ]
    }
   ],
   "source": [
    "import keras\n",
    "import numpy as np\n",
    "from preprocess import *\n",
    "from string import punctuation\n",
    "from collections import Counter"
   ]
  },
  {
   "cell_type": "code",
   "execution_count": 58,
   "metadata": {},
   "outputs": [],
   "source": [
    "with open('data/reviews.txt', 'r') as f:\n",
    "    reviews = f.read()\n",
    "    \n",
    "with open('data/labels.txt', 'r') as f:\n",
    "    labels = f.read()"
   ]
  },
  {
   "cell_type": "code",
   "execution_count": 59,
   "metadata": {},
   "outputs": [
    {
     "name": "stdout",
     "output_type": "stream",
     "text": [
      "number of reviews: 25001\n",
      "number of labels: 25001\n"
     ]
    }
   ],
   "source": [
    "reviews_int, vocab_size = text_preprocess(reviews)\n",
    "labels = convert_labels(labels)\n",
    "\n",
    "print(\"number of reviews:\", len(reviews_int))\n",
    "print(\"number of labels:\", len(labels)) "
   ]
  },
  {
   "cell_type": "code",
   "execution_count": 4,
   "metadata": {},
   "outputs": [
    {
     "name": "stdout",
     "output_type": "stream",
     "text": [
      "Zero-length reviews: 1\n",
      "Maximum review length: 2380\n"
     ]
    }
   ],
   "source": [
    "review_lens = Counter([len(x) for x in reviews_int])\n",
    "print(\"Zero-length reviews: {}\".format(review_lens[0]))\n",
    "print(\"Maximum review length: {}\".format(max(review_lens)))"
   ]
  },
  {
   "cell_type": "code",
   "execution_count": 5,
   "metadata": {},
   "outputs": [
    {
     "name": "stdout",
     "output_type": "stream",
     "text": [
      "number of reviews: 25000\n",
      "number of labels: 25000\n"
     ]
    }
   ],
   "source": [
    "# Filter out that review with 0 length\n",
    "index = 0\n",
    "for i in range(len(reviews_int)):\n",
    "    if len(reviews_int[i]) == 0:\n",
    "        index = i\n",
    "        \n",
    "reviews_int.pop(index)\n",
    "labels.pop(index)\n",
    "print(\"number of reviews:\", len(reviews_int))\n",
    "print(\"number of labels:\", len(labels))"
   ]
  },
  {
   "cell_type": "code",
   "execution_count": 6,
   "metadata": {},
   "outputs": [],
   "source": [
    "# limiting reviews to 200 words length\n",
    "# if review is less then 200 then left padd it with zeros\n",
    "\n",
    "seq_len = 200\n",
    "features = truncate(reviews_int, seq_len)\n",
    "labels = np.array(labels)        "
   ]
  },
  {
   "cell_type": "code",
   "execution_count": 7,
   "metadata": {},
   "outputs": [
    {
     "name": "stdout",
     "output_type": "stream",
     "text": [
      "training data: (20000, 200)\n",
      "testing data: (2500, 200)\n",
      "validation data: (2500, 200)\n"
     ]
    }
   ],
   "source": [
    "# creating train, test, validation dataset\n",
    "\n",
    "split_frac = 0.8\n",
    "\n",
    "s = int(split_frac*len(features))\n",
    "train_x, val_x = features[:s], features[s:]\n",
    "train_y, val_y = labels[:s], labels[s:]\n",
    "\n",
    "s = len(val_x)//2\n",
    "val_x, test_x = val_x[:s], val_x[s:]\n",
    "val_y, test_y = val_y[:s], val_y[s:]\n",
    "\n",
    "print(\"training data:\", train_x.shape)\n",
    "print(\"testing data:\", test_x.shape)\n",
    "print(\"validation data:\", val_x.shape)"
   ]
  },
  {
   "cell_type": "code",
   "execution_count": 8,
   "metadata": {},
   "outputs": [],
   "source": [
    "# ------------parameters--------------\n",
    "\n",
    "seq_len = 200\n",
    "embedding = 300"
   ]
  },
  {
   "cell_type": "code",
   "execution_count": 20,
   "metadata": {},
   "outputs": [],
   "source": [
    "# --------creating LSTM model---------\n",
    "\n",
    "model = keras.models.Sequential()\n",
    "\n",
    "model.add(keras.layers.Embedding(input_dim=vocab_size, output_dim=embedding, input_length=seq_len))\n",
    "model.add(keras.layers.LSTM(128, return_sequences=True))\n",
    "model.add(keras.layers.Dropout(.5))\n",
    "model.add(keras.layers.LSTM(256, return_sequences=True))\n",
    "model.add(keras.layers.Dropout(.5))\n",
    "model.add(keras.layers.LSTM(128))\n",
    "model.add(keras.layers.Dense(2, activation='softmax'))"
   ]
  },
  {
   "cell_type": "code",
   "execution_count": 21,
   "metadata": {},
   "outputs": [
    {
     "name": "stdout",
     "output_type": "stream",
     "text": [
      "_________________________________________________________________\n",
      "Layer (type)                 Output Shape              Param #   \n",
      "=================================================================\n",
      "embedding_3 (Embedding)      (None, 200, 300)          5651700   \n",
      "_________________________________________________________________\n",
      "lstm_7 (LSTM)                (None, 200, 128)          219648    \n",
      "_________________________________________________________________\n",
      "dropout_5 (Dropout)          (None, 200, 128)          0         \n",
      "_________________________________________________________________\n",
      "lstm_8 (LSTM)                (None, 200, 256)          394240    \n",
      "_________________________________________________________________\n",
      "dropout_6 (Dropout)          (None, 200, 256)          0         \n",
      "_________________________________________________________________\n",
      "lstm_9 (LSTM)                (None, 128)               197120    \n",
      "_________________________________________________________________\n",
      "dense_3 (Dense)              (None, 2)                 258       \n",
      "=================================================================\n",
      "Total params: 6,462,966\n",
      "Trainable params: 6,462,966\n",
      "Non-trainable params: 0\n",
      "_________________________________________________________________\n"
     ]
    }
   ],
   "source": [
    "model.summary()"
   ]
  },
  {
   "cell_type": "code",
   "execution_count": 22,
   "metadata": {},
   "outputs": [],
   "source": [
    "model.compile(optimizer='adam', loss='sparse_categorical_crossentropy', metrics=['accuracy'])"
   ]
  },
  {
   "cell_type": "code",
   "execution_count": 23,
   "metadata": {},
   "outputs": [
    {
     "name": "stdout",
     "output_type": "stream",
     "text": [
      "Train on 20000 samples, validate on 2500 samples\n",
      "Epoch 1/2\n",
      "20000/20000 [==============================] - 63s 3ms/step - loss: 0.5280 - acc: 0.7197 - val_loss: 0.4960 - val_acc: 0.7640\n",
      "Epoch 2/2\n",
      "20000/20000 [==============================] - 61s 3ms/step - loss: 0.2488 - acc: 0.9062 - val_loss: 0.4395 - val_acc: 0.8236\n"
     ]
    },
    {
     "data": {
      "text/plain": [
       "<keras.callbacks.History at 0x7f078f7c7748>"
      ]
     },
     "execution_count": 23,
     "metadata": {},
     "output_type": "execute_result"
    }
   ],
   "source": [
    "model.fit(train_x, train_y, batch_size=500, epochs=2, validation_data=(val_x, val_y))"
   ]
  },
  {
   "cell_type": "code",
   "execution_count": 24,
   "metadata": {},
   "outputs": [
    {
     "name": "stdout",
     "output_type": "stream",
     "text": [
      "2500/2500 [==============================] - 3s 1ms/step\n",
      "test loss: 0.43344812393188475\n",
      "test acc: 0.826800012588501\n"
     ]
    }
   ],
   "source": [
    "val_loss, val_acc = model.evaluate(test_x, test_y, batch_size=500)\n",
    "print(\"test loss:\", val_loss)\n",
    "print(\"test acc:\", val_acc)"
   ]
  },
  {
   "cell_type": "code",
   "execution_count": 25,
   "metadata": {},
   "outputs": [],
   "source": [
    "model.save('lstm.model')"
   ]
  },
  {
   "cell_type": "code",
   "execution_count": 75,
   "metadata": {},
   "outputs": [
    {
     "data": {
      "text/plain": [
       "'Positive'"
      ]
     },
     "execution_count": 75,
     "metadata": {},
     "output_type": "execute_result"
    }
   ],
   "source": [
    "# --------------testing manually--------------\n",
    "\n",
    "my_review = \"this movie inspired me a lot\"\n",
    "\n",
    "my_review = np.array(convert_new_review(my_review))\n",
    "\n",
    "[\"Negative\", \"Positive\"][np.argmax(model.predict(my_review))]"
   ]
  },
  {
   "cell_type": "code",
   "execution_count": null,
   "metadata": {},
   "outputs": [],
   "source": []
  }
 ],
 "metadata": {
  "kernelspec": {
   "display_name": "Python 3",
   "language": "python",
   "name": "python3"
  },
  "language_info": {
   "codemirror_mode": {
    "name": "ipython",
    "version": 3
   },
   "file_extension": ".py",
   "mimetype": "text/x-python",
   "name": "python",
   "nbconvert_exporter": "python",
   "pygments_lexer": "ipython3",
   "version": "3.6.4"
  }
 },
 "nbformat": 4,
 "nbformat_minor": 2
}
